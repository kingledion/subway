{
 "cells": [
  {
   "cell_type": "code",
   "execution_count": 1,
   "metadata": {},
   "outputs": [],
   "source": [
    "import numpy as np\n"
   ]
  },
  {
   "cell_type": "code",
   "execution_count": null,
   "metadata": {},
   "outputs": [],
   "source": []
  },
  {
   "cell_type": "code",
   "execution_count": 315,
   "metadata": {},
   "outputs": [],
   "source": [
    "def gradient(X, y, beta): \n",
    "    exb = np.exp(X @ beta)\n",
    "    return -2 * X.T @ (exb * (y - exb))\n",
    "\n",
    "def hessian(X, y, beta):\n",
    "    exb = np.exp(X @ beta)\n",
    "    return 2 * X.T @ np.diag(exb * (y - 2 * exb)) @ X"
   ]
  },
  {
   "cell_type": "code",
   "execution_count": 293,
   "metadata": {},
   "outputs": [],
   "source": [
    "def gradient(X, y, beta): \n",
    "    return -X.T @ (y - X @ beta)\n",
    "\n",
    "def hessian(X, y, beta):\n",
    "    return X.T @ X"
   ]
  },
  {
   "cell_type": "code",
   "execution_count": null,
   "metadata": {},
   "outputs": [],
   "source": []
  },
  {
   "cell_type": "code",
   "execution_count": 316,
   "metadata": {},
   "outputs": [
    {
     "data": {
      "text/plain": [
       "array([ 2.36603175,  3.23753545,  1.8754155 ,  3.4044651 ,  4.89824205,\n",
       "        3.8289647 ,  2.54325845,  2.4012512 ,  2.2625521 ,  0.8547618 ])"
      ]
     },
     "execution_count": 316,
     "metadata": {},
     "output_type": "execute_result"
    }
   ],
   "source": [
    "X =  np.array([[0.30921275, 0.1639936, 0.32987366, 0.1521676, 0.10684073],\n",
    "      [0.17249929, 0.4750078, 0.17943217, 0.3836358, 0.28166518],\n",
    "      [0.23319490, 0.1418882, 0.38561522, 0.1968013, 0.50590085],\n",
    "      [0.50298512, 0.1779079, 0.38381037, 0.4568122, 0.20863101],\n",
    "      [0.58547021, 0.3941782, 0.35733173, 0.2196384, 0.02525606],\n",
    "      [0.37268724, 0.3931057, 0.38063653, 0.2595784, 0.46842405],\n",
    "      [0.03192279, 0.4767289, 0.15030169, 0.2757356, 0.15306851],\n",
    "      [0.20316094, 0.2770893, 0.29683695, 0.3696765, 0.33493901],\n",
    "      [0.20653092, 0.2459795, 0.01397448, 0.3478179, 0.48448527],\n",
    "      [0.02525816, 0.1456942, 0.42368594, 0.3646511, 0.13924143]])\n",
    "beta_true = np.array([5,5,0,0,0])\n",
    "y = X @ beta_true\n",
    "y"
   ]
  },
  {
   "cell_type": "code",
   "execution_count": 351,
   "metadata": {},
   "outputs": [
    {
     "data": {
      "text/plain": [
       "array([ 0.69314718,  0.69314718,  0.69314718,  0.69314718,  0.69314718])"
      ]
     },
     "execution_count": 351,
     "metadata": {},
     "output_type": "execute_result"
    }
   ],
   "source": [
    "beta = np.log(np.array([2,2,2,2,2]))\n",
    "beta"
   ]
  },
  {
   "cell_type": "code",
   "execution_count": 352,
   "metadata": {},
   "outputs": [
    {
     "data": {
      "text/plain": [
       "array([ 6.31874141,  4.89843591,  0.95420349,  0.54575118, -2.39789274])"
      ]
     },
     "execution_count": 352,
     "metadata": {},
     "output_type": "execute_result"
    }
   ],
   "source": [
    "gradient(X, y, beta)"
   ]
  },
  {
   "cell_type": "code",
   "execution_count": 350,
   "metadata": {},
   "outputs": [
    {
     "data": {
      "text/plain": [
       "array([-4.96833939, -5.61526821, -4.37240321, -4.67926319, -3.57603851])"
      ]
     },
     "execution_count": 350,
     "metadata": {},
     "output_type": "execute_result"
    }
   ],
   "source": [
    "for _ in range(100):\n",
    "    beta = beta - 0.1 * gradient(X, y, beta)\n",
    "beta"
   ]
  },
  {
   "cell_type": "code",
   "execution_count": 356,
   "metadata": {},
   "outputs": [
    {
     "data": {
      "text/plain": [
       "array([ 1.73234161,  1.69119336, -0.25086188,  0.14492576,  0.16303613])"
      ]
     },
     "execution_count": 356,
     "metadata": {},
     "output_type": "execute_result"
    }
   ],
   "source": [
    "beta = beta - np.linalg.inv(hessian(X, y, beta)) @ gradient(X, y, beta)\n",
    "beta"
   ]
  },
  {
   "cell_type": "code",
   "execution_count": null,
   "metadata": {},
   "outputs": [],
   "source": []
  }
 ],
 "metadata": {
  "kernelspec": {
   "display_name": "Python 3",
   "language": "python",
   "name": "python3"
  },
  "language_info": {
   "codemirror_mode": {
    "name": "ipython",
    "version": 3
   },
   "file_extension": ".py",
   "mimetype": "text/x-python",
   "name": "python",
   "nbconvert_exporter": "python",
   "pygments_lexer": "ipython3",
   "version": "3.5.2"
  }
 },
 "nbformat": 4,
 "nbformat_minor": 2
}
