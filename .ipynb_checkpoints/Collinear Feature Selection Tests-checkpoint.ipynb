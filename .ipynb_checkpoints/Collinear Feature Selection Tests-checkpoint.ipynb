{
 "cells": [
  {
   "cell_type": "code",
   "execution_count": 1,
   "metadata": {},
   "outputs": [],
   "source": [
    "from regression import citylist, loadData\n",
    "import itertools, numpy as np, scipy.stats as stats\n",
    "from sklearn.ensemble import RandomForestRegressor\n",
    "from sklearn.linear_model import Lasso"
   ]
  },
  {
   "cell_type": "code",
   "execution_count": 14,
   "metadata": {},
   "outputs": [],
   "source": [
    "# load data\n",
    "df = loadData(citylist)\n",
    "cols = ['60net_bachelors', '60net_business', '60net_emp_pay', '60net_employment', '60net_finance', '60net_hospitality', '60net_hunits_attached', '60net_hunits_medium', '60net_hunits_new', '60net_hunits_old', '60net_hunits_owner', '60net_hunits_vacant', '60net_pop_rich']"
   ]
  },
  {
   "cell_type": "code",
   "execution_count": 15,
   "metadata": {},
   "outputs": [],
   "source": [
    "# Regression for each possible combo of features\n",
    "combos = [(a, b) for a, b in itertools.combinations(cols, 2) if a != b]\n",
    "data = []\n",
    "for a, b in combos:\n",
    "    y = df[a]\n",
    "    x = df[b]\n",
    "    slope, intercept, rval, pval, stderr = stats.linregress(x, y)\n",
    "    rs = rval**2\n",
    "    data.append((a, b, rs))"
   ]
  },
  {
   "cell_type": "code",
   "execution_count": 16,
   "metadata": {},
   "outputs": [],
   "source": [
    "# Build affinity matrix; default affinity is 1 (for value to itself)\n",
    "adj = np.ones([len(cols), len(cols)])\n",
    "for istr, jstr, score in data:\n",
    "    i = cols.index(istr)\n",
    "    j = cols.index(jstr)\n",
    "    adj[i][j] = score\n",
    "    adj[j][i] = score"
   ]
  },
  {
   "cell_type": "code",
   "execution_count": 17,
   "metadata": {},
   "outputs": [
    {
     "data": {
      "text/plain": [
       "(array([[ 1.        ,  0.96813219,  0.83601712,  0.94710539,  0.89800918,\n",
       "          0.97361911,  0.97911346,  0.99259078,  0.78883309,  0.9809996 ,\n",
       "          0.95702245,  0.8470023 ,  0.99823079],\n",
       "        [ 0.96813219,  1.        ,  0.87429026,  0.93977099,  0.93398219,\n",
       "          0.97621814,  0.91568084,  0.94736367,  0.75809305,  0.91196   ,\n",
       "          0.89933221,  0.78606432,  0.9741136 ],\n",
       "        [ 0.83601712,  0.87429026,  1.        ,  0.94537893,  0.98668293,\n",
       "          0.91495926,  0.7692797 ,  0.81659029,  0.42786328,  0.78327582,\n",
       "          0.67131394,  0.48396832,  0.84452579],\n",
       "        [ 0.94710539,  0.93977099,  0.94537893,  1.        ,  0.96542469,\n",
       "          0.9847186 ,  0.91041211,  0.93545543,  0.61944907,  0.92176914,\n",
       "          0.84246562,  0.6821071 ,  0.94603235],\n",
       "        [ 0.89800918,  0.93398219,  0.98668293,  0.96542469,  1.        ,\n",
       "          0.95603906,  0.83353558,  0.87750832,  0.52518423,  0.84405117,\n",
       "          0.75309524,  0.57694171,  0.90591694],\n",
       "        [ 0.97361911,  0.97621814,  0.91495926,  0.9847186 ,  0.95603906,\n",
       "          1.        ,  0.93132535,  0.953864  ,  0.69392193,  0.93796952,\n",
       "          0.88522358,  0.74488698,  0.97280434],\n",
       "        [ 0.97911346,  0.91568084,  0.7692797 ,  0.91041211,  0.83353558,\n",
       "          0.93132535,  1.        ,  0.99166585,  0.79964699,  0.99527188,\n",
       "          0.97204704,  0.87922289,  0.97483592],\n",
       "        [ 0.99259078,  0.94736367,  0.81659029,  0.93545543,  0.87750832,\n",
       "          0.953864  ,  0.99166585,  1.        ,  0.78937944,  0.99083607,\n",
       "          0.96256901,  0.86046153,  0.99062896],\n",
       "        [ 0.78883309,  0.75809305,  0.42786328,  0.61944907,  0.52518423,\n",
       "          0.69392193,  0.79964699,  0.78937944,  1.        ,  0.77787835,\n",
       "          0.90175153,  0.97649876,  0.78225759],\n",
       "        [ 0.9809996 ,  0.91196   ,  0.78327582,  0.92176914,  0.84405117,\n",
       "          0.93796952,  0.99527188,  0.99083607,  0.77787835,  1.        ,\n",
       "          0.95910106,  0.86121434,  0.97297697],\n",
       "        [ 0.95702245,  0.89933221,  0.67131394,  0.84246562,  0.75309524,\n",
       "          0.88522358,  0.97204704,  0.96256901,  0.90175153,  0.95910106,\n",
       "          1.        ,  0.95100774,  0.95383169],\n",
       "        [ 0.8470023 ,  0.78606432,  0.48396832,  0.6821071 ,  0.57694171,\n",
       "          0.74488698,  0.87922289,  0.86046153,  0.97649876,  0.86121434,\n",
       "          0.95100774,  1.        ,  0.83830082],\n",
       "        [ 0.99823079,  0.9741136 ,  0.84452579,  0.94603235,  0.90591694,\n",
       "          0.97280434,  0.97483592,  0.99062896,  0.78225759,  0.97297697,\n",
       "          0.95383169,  0.83830082,  1.        ]]),\n",
       " ['60net_bachelors',\n",
       "  '60net_business',\n",
       "  '60net_emp_pay',\n",
       "  '60net_employment',\n",
       "  '60net_finance',\n",
       "  '60net_hospitality',\n",
       "  '60net_hunits_attached',\n",
       "  '60net_hunits_medium',\n",
       "  '60net_hunits_new',\n",
       "  '60net_hunits_old',\n",
       "  '60net_hunits_owner',\n",
       "  '60net_hunits_vacant',\n",
       "  '60net_pop_rich'])"
      ]
     },
     "execution_count": 17,
     "metadata": {},
     "output_type": "execute_result"
    }
   ],
   "source": [
    "adj, cols"
   ]
  },
  {
   "cell_type": "code",
   "execution_count": 18,
   "metadata": {},
   "outputs": [
    {
     "data": {
      "text/plain": [
       "array([ 0.        , -0.        ,  0.        ,  0.01411023, -0.08386563,\n",
       "        0.        ,  0.        , -0.        , -0.06636101, -0.        ,\n",
       "        0.        , -0.        ,  0.01231286])"
      ]
     },
     "execution_count": 18,
     "metadata": {},
     "output_type": "execute_result"
    }
   ],
   "source": [
    "mdl = Lasso(normalize=True)\n",
    "result = mdl.fit(df[cols], df['riders'])\n",
    "result.coef_"
   ]
  },
  {
   "cell_type": "code",
   "execution_count": null,
   "metadata": {},
   "outputs": [],
   "source": []
  }
 ],
 "metadata": {
  "kernelspec": {
   "display_name": "Python 3",
   "language": "python",
   "name": "python3"
  },
  "language_info": {
   "codemirror_mode": {
    "name": "ipython",
    "version": 3
   },
   "file_extension": ".py",
   "mimetype": "text/x-python",
   "name": "python",
   "nbconvert_exporter": "python",
   "pygments_lexer": "ipython3",
   "version": "3.5.2"
  }
 },
 "nbformat": 4,
 "nbformat_minor": 2
}
