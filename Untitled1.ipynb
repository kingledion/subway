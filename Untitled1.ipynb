{
 "cells": [
  {
   "cell_type": "code",
   "execution_count": 1,
   "metadata": {},
   "outputs": [],
   "source": [
    "from regression import loadData, citylist\n",
    "from sklearn.ensemble import RandomForestRegressor\n",
    "import itertools, numpy as np"
   ]
  },
  {
   "cell_type": "code",
   "execution_count": 2,
   "metadata": {},
   "outputs": [],
   "source": [
    "df = loadData(citylist, droptransfer=True)    \n",
    "cols = list(df.columns.difference(['lat', 'lon', 'name', 'riders', '30net_students', '15net_students', 'near_students', 'near_hunits_renter'])) "
   ]
  },
  {
   "cell_type": "code",
   "execution_count": 3,
   "metadata": {},
   "outputs": [],
   "source": [
    "forest = RandomForestRegressor(max_features='log2', n_jobs = -1)"
   ]
  },
  {
   "cell_type": "code",
   "execution_count": 4,
   "metadata": {},
   "outputs": [
    {
     "data": {
      "text/plain": [
       "RandomForestRegressor(bootstrap=True, criterion='mse', max_depth=None,\n",
       "           max_features='log2', max_leaf_nodes=None,\n",
       "           min_impurity_split=1e-07, min_samples_leaf=1,\n",
       "           min_samples_split=2, min_weight_fraction_leaf=0.0,\n",
       "           n_estimators=10, n_jobs=-1, oob_score=False, random_state=None,\n",
       "           verbose=0, warm_start=False)"
      ]
     },
     "execution_count": 4,
     "metadata": {},
     "output_type": "execute_result"
    }
   ],
   "source": [
    "forest.fit(df[cols], df['riders'])"
   ]
  },
  {
   "cell_type": "code",
   "execution_count": null,
   "metadata": {},
   "outputs": [],
   "source": [
    "feats = [name for name,score in zip(cols, forest.feature_importances_)]"
   ]
  },
  {
   "cell_type": "code",
   "execution_count": 16,
   "metadata": {},
   "outputs": [
    {
     "name": "stdout",
     "output_type": "stream",
     "text": [
      "30net_hunits_old 0.00124868569989\n",
      "30net_employed 0.00130359264777\n",
      "parking 0.00140370135029\n",
      "near_entertainment 0.00153164249861\n",
      "15net_pop_rich 0.00170118335953\n",
      "30net_pop_old 0.00181667028051\n",
      "near_hunits_owner 0.00202297356275\n",
      "30net_entertainment 0.00207038262261\n",
      "30net_pop_poor 0.00214431355686\n",
      "30net_finance 0.00221169795611\n",
      "15net_hunits_large 0.00242197248813\n",
      "near_hunits_medium 0.00249190417815\n",
      "30net_hunits 0.00251025358468\n",
      "near_hunits_detached 0.00259284915886\n",
      "near_pop_child 0.002852562626\n",
      "15net_hunits_renter 0.00287940991744\n",
      "30net_pop_child 0.00293884564767\n",
      "near_pop_rich 0.00296037006402\n",
      "30net_population 0.00305818077324\n",
      "15net_employment 0.00308733664647\n",
      "30net_hunits_new 0.00313585674352\n",
      "15net_foreign_born 0.00333760746016\n",
      "30net_pop_rich 0.00338036578958\n",
      "15net_pop_poor 0.00354186899165\n",
      "30net_household 0.00374654943074\n",
      "30net_hunits_renter 0.00375544756808\n",
      "15net_hunits_owner 0.00379723379158\n",
      "near_foreign_born 0.00412352537377\n",
      "near_university 0.00418799184872\n",
      "15net_hunits_vacant 0.00436058658564\n",
      "15net_hunits_attached 0.00439300558304\n",
      "15net_hunits_medium 0.00454463872679\n",
      "15net_family 0.00459108285939\n",
      "near_house_w_child 0.0048543766946\n",
      "near_hunits_vacant 0.00496021764169\n",
      "30net_hunits_owner 0.00497357977456\n",
      "15net_employed 0.00506216144835\n",
      "15net_labor_force 0.00516801555897\n",
      "near_hunits_attached 0.00520713867774\n",
      "near_family 0.00539730368275\n",
      "15net_house_w_child 0.00547527356718\n",
      "15net_entertainment 0.00557095064211\n",
      "15net_pop_child 0.00558199138035\n",
      "15net_finance 0.00604000686986\n",
      "near_business 0.0061858547188\n",
      "near_hunits_large 0.00623659963444\n",
      "30net_bachelors 0.00637391541728\n",
      "15net_population 0.00660383384829\n",
      "30net_employment 0.00662249663403\n",
      "30net_emp_pay 0.00669468069657\n",
      "near_finance 0.00700131299187\n",
      "15net_hunits_new 0.00704780668077\n",
      "15net_university 0.00727896325147\n",
      "near_pop_poor 0.00758789746177\n",
      "near_population 0.00763344881233\n",
      "near_medical 0.00777333137366\n",
      "30net_emp_full_time 0.00798272965687\n",
      "near_household 0.00811945831692\n",
      "15net_emp_full_time 0.00814126948291\n",
      "15net_emp_pay 0.00823696375255\n",
      "near_hunits 0.00832569737721\n",
      "15net_medical 0.0085855208575\n",
      "30net_foreign_born 0.00905961993052\n",
      "30net_family 0.00908206223998\n",
      "30net_business 0.0091913939262\n",
      "30net_house_w_child 0.0108307891663\n",
      "near_hunits_new 0.011187340177\n",
      "30net_hospitality 0.0117856313693\n",
      "30net_hunits_large 0.0121596799965\n",
      "30net_hunits_detached 0.0123418722327\n",
      "30net_hunits_medium 0.0131672534783\n",
      "30net_hunits_attached 0.0132155565234\n",
      "near_pop_old 0.0135535007798\n",
      "30net_hunits_vacant 0.0136578035173\n",
      "near_employed 0.014543867476\n",
      "15net_hunits_detached 0.0146707014951\n",
      "near_hunits_old 0.0148818716593\n",
      "near_labor_force 0.0157934401082\n",
      "near_emp_full_time 0.0173991382782\n",
      "near_bachelors 0.0246283037745\n",
      "15net_hunits_old 0.0256445852335\n",
      "15net_bachelors 0.0259440983592\n",
      "near_hospitality 0.0276339408112\n",
      "15net_household 0.02911208306\n",
      "30net_university 0.0332957670632\n",
      "30net_labor_force 0.0354558840441\n",
      "30net_medical 0.0361430214707\n",
      "15net_hospitality 0.0386444349695\n",
      "15net_business 0.0386657723966\n",
      "near_employment 0.0443446057236\n",
      "15net_hunits 0.044656542127\n",
      "15net_pop_old 0.0461901237961\n",
      "near_emp_pay 0.0462522285411\n"
     ]
    }
   ],
   "source": [
    "for name, score in sorted(, list(zip(cols, forest.feature_importances_))key = lambda x: x[1]):\n",
    "    print(name, score)"
   ]
  },
  {
   "cell_type": "code",
   "execution_count": 17,
   "metadata": {},
   "outputs": [
    {
     "data": {
      "text/plain": [
       "1.0"
      ]
     },
     "execution_count": 17,
     "metadata": {},
     "output_type": "execute_result"
    }
   ],
   "source": [
    "sum(forest.feature_importances_)"
   ]
  },
  {
   "cell_type": "code",
   "execution_count": null,
   "metadata": {},
   "outputs": [],
   "source": [
    "+\n",
    "\n"
   ]
  }
 ],
 "metadata": {
  "kernelspec": {
   "display_name": "Python 3",
   "language": "python",
   "name": "python3"
  },
  "language_info": {
   "codemirror_mode": {
    "name": "ipython",
    "version": 3
   },
   "file_extension": ".py",
   "mimetype": "text/x-python",
   "name": "python",
   "nbconvert_exporter": "python",
   "pygments_lexer": "ipython3",
   "version": "3.5.2"
  }
 },
 "nbformat": 4,
 "nbformat_minor": 2
}
