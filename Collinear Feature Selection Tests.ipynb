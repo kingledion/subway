{
 "cells": [
  {
   "cell_type": "code",
   "execution_count": 8,
   "metadata": {},
   "outputs": [],
   "source": [
    "from regression import citylist, loadData\n",
    "import itertools, numpy as np, scipy.stats as stats\n",
    "from sklearn.ensemble import RandomForestRegressor\n",
    "from sklearn.linear_model import Lasso\n",
    "from sklearn.preprocessing import StandardScaler"
   ]
  },
  {
   "cell_type": "code",
   "execution_count": 2,
   "metadata": {},
   "outputs": [],
   "source": [
    "# load data\n",
    "df = loadData(citylist)\n",
    "cols = ['60net_bachelors', '60net_business', '60net_emp_pay', '60net_employment', '60net_finance', '60net_hospitality', '60net_hunits_attached', '60net_hunits_medium', '60net_hunits_new', '60net_hunits_old', '60net_hunits_owner', '60net_hunits_vacant', '60net_pop_rich']"
   ]
  },
  {
   "cell_type": "code",
   "execution_count": 3,
   "metadata": {},
   "outputs": [],
   "source": [
    "# Regression for each possible combo of features\n",
    "combos = [(a, b) for a, b in itertools.combinations(cols, 2) if a != b]\n",
    "data = []\n",
    "for a, b in combos:\n",
    "    y = df[a]\n",
    "    x = df[b]\n",
    "    slope, intercept, rval, pval, stderr = stats.linregress(x, y)\n",
    "    rs = rval**2\n",
    "    data.append((a, b, rs))"
   ]
  },
  {
   "cell_type": "code",
   "execution_count": 4,
   "metadata": {},
   "outputs": [],
   "source": [
    "# Build affinity matrix; default affinity is 1 (for value to itself)\n",
    "adj = np.ones([len(cols), len(cols)])\n",
    "for istr, jstr, score in data:\n",
    "    i = cols.index(istr)\n",
    "    j = cols.index(jstr)\n",
    "    adj[i][j] = score\n",
    "    adj[j][i] = score"
   ]
  },
  {
   "cell_type": "code",
   "execution_count": 16,
   "metadata": {},
   "outputs": [
    {
     "data": {
      "text/plain": [
       "array([ 0.        , -0.        ,  0.        ,  0.01411023, -0.08386563,\n",
       "        0.        ,  0.        , -0.        , -0.06636101, -0.        ,\n",
       "        0.        , -0.        ,  0.01231286])"
      ]
     },
     "execution_count": 16,
     "metadata": {},
     "output_type": "execute_result"
    }
   ],
   "source": [
    "mdl = Lasso(normalize=True)\n",
    "result = mdl.fit(df[cols], df['riders'])\n",
    "result.coef_"
   ]
  },
  {
   "cell_type": "code",
   "execution_count": 13,
   "metadata": {},
   "outputs": [
    {
     "data": {
      "text/plain": [
       "array([[ 0.34273449,  0.44581744,  1.01665777, ...,  0.00970711,\n",
       "        -0.35570235,  0.37078778],\n",
       "       [ 0.39595988,  0.45926607,  1.03905308, ...,  0.04673051,\n",
       "        -0.33282737,  0.42140314],\n",
       "       [ 0.40745803,  0.47016165,  1.05424623, ...,  0.05612248,\n",
       "        -0.33070936,  0.43667885],\n",
       "       ..., \n",
       "       [-0.44129153, -0.74411889, -0.59069693, ..., -0.28325831,\n",
       "        -0.29693949, -0.50102994],\n",
       "       [-0.42538454, -0.71506316, -0.56426815, ..., -0.26451793,\n",
       "        -0.2887793 , -0.47542458],\n",
       "       [-0.39420929, -0.69416128, -0.53982339, ..., -0.22429362,\n",
       "        -0.26984224, -0.42894239]])"
      ]
     },
     "execution_count": 13,
     "metadata": {},
     "output_type": "execute_result"
    }
   ],
   "source": []
  },
  {
   "cell_type": "code",
   "execution_count": null,
   "metadata": {},
   "outputs": [],
   "source": []
  }
 ],
 "metadata": {
  "kernelspec": {
   "display_name": "Python 3",
   "language": "python",
   "name": "python3"
  },
  "language_info": {
   "codemirror_mode": {
    "name": "ipython",
    "version": 3
   },
   "file_extension": ".py",
   "mimetype": "text/x-python",
   "name": "python",
   "nbconvert_exporter": "python",
   "pygments_lexer": "ipython3",
   "version": "3.5.2"
  }
 },
 "nbformat": 4,
 "nbformat_minor": 2
}
