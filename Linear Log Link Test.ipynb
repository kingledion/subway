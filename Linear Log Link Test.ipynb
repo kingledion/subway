{
 "cells": [
  {
   "cell_type": "code",
   "execution_count": 1,
   "metadata": {},
   "outputs": [],
   "source": [
    "import numpy as np\n"
   ]
  },
  {
   "cell_type": "code",
   "execution_count": null,
   "metadata": {},
   "outputs": [],
   "source": []
  },
  {
   "cell_type": "code",
   "execution_count": 524,
   "metadata": {},
   "outputs": [],
   "source": [
    "# Gaussian with log link\n",
    "def objective(X, y, beta):\n",
    "    return np.sum(np.power(y - np.exp(X @ beta), 2))\n",
    "\n",
    "def gradient(X, y, beta): \n",
    "    exb = np.exp(X @ beta)\n",
    "    return -2 * X.T @ (exb * (y - exb))\n",
    "\n",
    "def hessian(X, y, beta):\n",
    "    exb = np.exp(X @ beta)\n",
    "    return -2 * X.T @ np.diag(exb * (y - 2 * exb)) @ X"
   ]
  },
  {
   "cell_type": "code",
   "execution_count": 470,
   "metadata": {},
   "outputs": [],
   "source": [
    "# Gaussian with identity link\n",
    "def objective(X, y, beta):\n",
    "    return np.sum(np.power(y - X @ beta, 2))\n",
    "\n",
    "def gradient(X, y, beta): \n",
    "    return -2 * X.T @ (y - X @ beta)\n",
    "\n",
    "def hessian(X, y, beta):\n",
    "    return 2 * X.T @ X"
   ]
  },
  {
   "cell_type": "code",
   "execution_count": null,
   "metadata": {},
   "outputs": [],
   "source": []
  },
  {
   "cell_type": "code",
   "execution_count": 476,
   "metadata": {},
   "outputs": [
    {
     "data": {
      "text/plain": [
       "array([ 2.36603175,  3.23753545,  1.8754155 ,  3.4044651 ,  4.89824205,\n",
       "        3.8289647 ,  2.54325845,  2.4012512 ,  2.2625521 ,  0.8547618 ])"
      ]
     },
     "execution_count": 476,
     "metadata": {},
     "output_type": "execute_result"
    }
   ],
   "source": [
    "X =  np.array([[0.30921275, 0.1639936, 0.32987366, 0.1521676, 0.10684073],\n",
    "      [0.17249929, 0.4750078, 0.17943217, 0.3836358, 0.28166518],\n",
    "      [0.23319490, 0.1418882, 0.38561522, 0.1968013, 0.50590085],\n",
    "      [0.50298512, 0.1779079, 0.38381037, 0.4568122, 0.20863101],\n",
    "      [0.58547021, 0.3941782, 0.35733173, 0.2196384, 0.02525606],\n",
    "      [0.37268724, 0.3931057, 0.38063653, 0.2595784, 0.46842405],\n",
    "      [0.03192279, 0.4767289, 0.15030169, 0.2757356, 0.15306851],\n",
    "      [0.20316094, 0.2770893, 0.29683695, 0.3696765, 0.33493901],\n",
    "      [0.20653092, 0.2459795, 0.01397448, 0.3478179, 0.48448527],\n",
    "      [0.02525816, 0.1456942, 0.42368594, 0.3646511, 0.13924143]])\n",
    "beta_true = np.array([5,5,0,0,0])\n",
    "y = X @ beta_true\n",
    "y"
   ]
  },
  {
   "cell_type": "code",
   "execution_count": 615,
   "metadata": {},
   "outputs": [
    {
     "data": {
      "text/plain": [
       "array([2, 4])"
      ]
     },
     "execution_count": 615,
     "metadata": {},
     "output_type": "execute_result"
    }
   ],
   "source": [
    "X = np.array([[1], [2]])\n",
    "beta_true = np.array([2])\n",
    "y = X @ beta_true\n",
    "y"
   ]
  },
  {
   "cell_type": "code",
   "execution_count": 630,
   "metadata": {},
   "outputs": [
    {
     "data": {
      "text/plain": [
       "array([ 0.9])"
      ]
     },
     "execution_count": 630,
     "metadata": {},
     "output_type": "execute_result"
    }
   ],
   "source": [
    "beta = np.array([0.9])\n",
    "beta"
   ]
  },
  {
   "cell_type": "code",
   "execution_count": 631,
   "metadata": {},
   "outputs": [
    {
     "data": {
      "text/plain": [
       "4.4122897481595693"
      ]
     },
     "execution_count": 631,
     "metadata": {},
     "output_type": "execute_result"
    }
   ],
   "source": [
    "objective(X, y, beta)"
   ]
  },
  {
   "cell_type": "code",
   "execution_count": 632,
   "metadata": {},
   "outputs": [
    {
     "data": {
      "text/plain": [
       "array([ 51.85946083])"
      ]
     },
     "execution_count": 632,
     "metadata": {},
     "output_type": "execute_result"
    }
   ],
   "source": [
    "gradient(X, y, beta)"
   ]
  },
  {
   "cell_type": "code",
   "execution_count": 633,
   "metadata": {},
   "outputs": [
    {
     "data": {
      "text/plain": [
       "array([ 0.69314723])"
      ]
     },
     "execution_count": 633,
     "metadata": {},
     "output_type": "execute_result"
    }
   ],
   "source": [
    "for _ in range(100):\n",
    "    beta = beta - 0.001 * gradient(X, y, beta)\n",
    "beta"
   ]
  },
  {
   "cell_type": "code",
   "execution_count": 623,
   "metadata": {},
   "outputs": [
    {
     "data": {
      "text/plain": [
       "array([ 0.69314718])"
      ]
     },
     "execution_count": 623,
     "metadata": {},
     "output_type": "execute_result"
    }
   ],
   "source": [
    "beta = beta - np.linalg.inv(hessian(X, y, beta)) @ gradient(X, y, beta)\n",
    "beta"
   ]
  },
  {
   "cell_type": "code",
   "execution_count": 618,
   "metadata": {},
   "outputs": [
    {
     "data": {
      "text/plain": [
       "0.69314718055994529"
      ]
     },
     "execution_count": 618,
     "metadata": {},
     "output_type": "execute_result"
    }
   ],
   "source": [
    "np.log(2)"
   ]
  },
  {
   "cell_type": "code",
   "execution_count": 634,
   "metadata": {},
   "outputs": [
    {
     "data": {
      "text/plain": [
       "array([ 4.88417311,  5.33345902,  1.        ,  1.10944512,  1.01333399])"
      ]
     },
     "execution_count": 634,
     "metadata": {},
     "output_type": "execute_result"
    }
   ],
   "source": [
    "np.exp([1.586, 1.674, 7.9e-12, 1.0386e-1, .01324587])"
   ]
  },
  {
   "cell_type": "code",
   "execution_count": 635,
   "metadata": {},
   "outputs": [
    {
     "data": {
      "text/plain": [
       "array([ 3.16998222,  3.63422135,  2.98478913,  2.49901549,  1.49644969])"
      ]
     },
     "execution_count": 635,
     "metadata": {},
     "output_type": "execute_result"
    }
   ],
   "source": [
    "np.exp([ 1.15372598,  1.29039488,  1.0935291,   0.91589685,  0.40309543])"
   ]
  },
  {
   "cell_type": "code",
   "execution_count": null,
   "metadata": {},
   "outputs": [],
   "source": []
  }
 ],
 "metadata": {
  "kernelspec": {
   "display_name": "Python 3",
   "language": "python",
   "name": "python3"
  },
  "language_info": {
   "codemirror_mode": {
    "name": "ipython",
    "version": 3
   },
   "file_extension": ".py",
   "mimetype": "text/x-python",
   "name": "python",
   "nbconvert_exporter": "python",
   "pygments_lexer": "ipython3",
   "version": "3.5.2"
  }
 },
 "nbformat": 4,
 "nbformat_minor": 2
}
