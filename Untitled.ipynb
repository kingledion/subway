{
 "cells": [
  {
   "cell_type": "code",
   "execution_count": 75,
   "metadata": {},
   "outputs": [],
   "source": [
    "from regression import citylist, loadData\n",
    "import statsmodels.api as sm, itertools, networkx as nx, community\n",
    "from sklearn.cluster import KMeans, AgglomerativeClustering"
   ]
  },
  {
   "cell_type": "code",
   "execution_count": 2,
   "metadata": {},
   "outputs": [],
   "source": [
    "df = loadData(citylist)\n",
    "cols = df.columns.difference(['lat', 'lon', 'name', 'riders'])\n",
    "combos = [(a, b) for a, b in itertools.product(cols, cols) if a != b]"
   ]
  },
  {
   "cell_type": "code",
   "execution_count": 42,
   "metadata": {},
   "outputs": [],
   "source": [
    "data = []\n",
    "for a, b in combos:\n",
    "#    a, b = 'near_population', 'near_family'\n",
    "    y = df[a]\n",
    "    X = sm.add_constant(df[b])\n",
    "    result = sm.OLS(y, X).fit()\n",
    "    rs = result.rsquared\n",
    "    data.append((a, b, rs))\n"
   ]
  },
  {
   "cell_type": "code",
   "execution_count": 54,
   "metadata": {},
   "outputs": [],
   "source": [
    "G = nx.Graph()\n",
    "for a, b, score in sorted(data, key=lambda x: x[2], reverse=True)[::2]:\n",
    "    G.add_edge(a, b, weight=score)"
   ]
  },
  {
   "cell_type": "code",
   "execution_count": 74,
   "metadata": {},
   "outputs": [],
   "source": [
    "nodes_part = community.best_partition(G, weight='weight')\n",
    "part_louvain = {}\n",
    "for k, v in nodes_part.items():\n",
    "    if v in part_louvain:\n",
    "        part_louvain[v].append(k)\n",
    "    else:\n",
    "        part_louvain[v] = [k]"
   ]
  },
  {
   "cell_type": "code",
   "execution_count": 78,
   "metadata": {},
   "outputs": [],
   "source": [
    "result = KMeans(n_clusters=4).fit(df[cols])\n",
    "part_kmeans = {}\n",
    "for part, name in zip(result.predict(df[cols]), cols):\n",
    "    if part in part_kmeans:\n",
    "        part_kmeans[part].append(name)\n",
    "    else:\n",
    "        part_kmeans[part] = [name]"
   ]
  },
  {
   "cell_type": "code",
   "execution_count": 80,
   "metadata": {},
   "outputs": [],
   "source": [
    "result = AgglomerativeClustering(n_clusters=4).fit(df[cols])\n",
    "part_agg = {}\n",
    "for part, name in zip(result.fit_predict(df[cols]), cols):\n",
    "    if part in part_agg:\n",
    "        part_agg[part].append(name)\n",
    "    else:\n",
    "        part_agg[part] = [name]"
   ]
  },
  {
   "cell_type": "code",
   "execution_count": 92,
   "metadata": {},
   "outputs": [
    {
     "name": "stdout",
     "output_type": "stream",
     "text": [
      "1 0 0 0.35514018691588783\n",
      "2 0 2 0.32558139534883723\n",
      "0 1 1 0.3055555555555556\n",
      "3 3 3 0.27906976744186046\n",
      "3 1 3 0.22727272727272727\n",
      "0 3 1 0.17142857142857143\n",
      "1 2 0 0.1518987341772152\n",
      "3 2 3 0.14634146341463414\n",
      "2 2 2 0.13861386138613863\n",
      "2 1 2 0.09345794392523364\n",
      "0 2 1 0.06060606060606061\n",
      "2 3 2 0.05714285714285714\n",
      "2 0 1 0.05084745762711865\n",
      "2 0 0 0.04838709677419355\n",
      "1 3 0 0.04819277108433735\n",
      "3 0 3 0.03636363636363636\n",
      "3 3 1 0.024691358024691357\n",
      "0 0 1 0.02127659574468085\n",
      "2 1 1 0.020833333333333332\n",
      "2 3 0 0.02\n",
      "0 0 0 0.0\n",
      "0 0 2 0.0\n",
      "0 0 3 0.0\n",
      "0 1 0 0.0\n",
      "0 1 2 0.0\n",
      "0 1 3 0.0\n",
      "0 2 0 0.0\n",
      "0 2 2 0.0\n",
      "0 2 3 0.0\n",
      "0 3 0 0.0\n",
      "0 3 2 0.0\n",
      "0 3 3 0.0\n",
      "1 0 1 0.0\n",
      "1 0 2 0.0\n",
      "1 0 3 0.0\n",
      "1 1 0 0.0\n",
      "1 1 1 0.0\n",
      "1 1 2 0.0\n",
      "1 1 3 0.0\n",
      "1 2 1 0.0\n",
      "1 2 2 0.0\n",
      "1 2 3 0.0\n",
      "1 3 1 0.0\n",
      "1 3 2 0.0\n",
      "1 3 3 0.0\n",
      "2 0 3 0.0\n",
      "2 1 0 0.0\n",
      "2 1 3 0.0\n",
      "2 2 0 0.0\n",
      "2 2 1 0.0\n",
      "2 2 3 0.0\n",
      "2 3 1 0.0\n",
      "2 3 3 0.0\n",
      "3 0 0 0.0\n",
      "3 0 1 0.0\n",
      "3 0 2 0.0\n",
      "3 1 0 0.0\n",
      "3 1 1 0.0\n",
      "3 1 2 0.0\n",
      "3 2 0 0.0\n",
      "3 2 1 0.0\n",
      "3 2 2 0.0\n",
      "3 3 0 0.0\n",
      "3 3 2 0.0\n"
     ]
    }
   ],
   "source": [
    "output = []\n",
    "for i in range(4):\n",
    "    for j in range(4):\n",
    "        for k in range(4):\n",
    "            comlen = len(set(part_kmeans[i]) & set(part_louvain[j]) & set(part_agg[k]))\n",
    "            avglen = len(part_kmeans[i])+len(part_louvain[j]) + len(part_agg[k])\n",
    "            output.append((i, j, k, format(comlen*2/avglen)))\n",
    "for i, j, k, score in sorted(output, key = lambda x: x[3], reverse = True):\n",
    "    print(i, j, k, score)"
   ]
  },
  {
   "cell_type": "code",
   "execution_count": null,
   "metadata": {},
   "outputs": [],
   "source": []
  }
 ],
 "metadata": {
  "kernelspec": {
   "display_name": "Python 3",
   "language": "python",
   "name": "python3"
  },
  "language_info": {
   "codemirror_mode": {
    "name": "ipython",
    "version": 3
   },
   "file_extension": ".py",
   "mimetype": "text/x-python",
   "name": "python",
   "nbconvert_exporter": "python",
   "pygments_lexer": "ipython3",
   "version": "3.5.2"
  }
 },
 "nbformat": 4,
 "nbformat_minor": 2
}
