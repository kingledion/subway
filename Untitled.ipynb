{
 "cells": [
  {
   "cell_type": "code",
   "execution_count": 2,
   "metadata": {},
   "outputs": [],
   "source": [
    "import numpy as np"
   ]
  },
  {
   "cell_type": "code",
   "execution_count": 3,
   "metadata": {},
   "outputs": [],
   "source": [
    "# Least Squares, log link\n",
    "def objective(X, y, beta):\n",
    "    return np.sum(np.power(y - np.exp(X @ beta), 2))\n",
    "\n",
    "def gradient(X, y, beta): \n",
    "    exb = np.exp(X @ beta)\n",
    "    return -2 * X.T @ (exb * (y - exb))\n",
    "\n",
    "def hessian(X, y, beta):\n",
    "    exb = np.exp(X @ beta)\n",
    "    return -2 * X.T @ np.diag(exb * (y - 2 * exb)) @ X"
   ]
  },
  {
   "cell_type": "code",
   "execution_count": 296,
   "metadata": {},
   "outputs": [],
   "source": [
    "# Poisson\n",
    "def objective(X, y, beta):\n",
    "    return np.sum(np.exp(X @ beta) - y * (X @ beta))\n",
    "\n",
    "def gradient(X, y, beta):\n",
    "    return X.T @ (np.exp(X @ beta) - y)\n",
    "\n",
    "def hessian(X, y, beta):\n",
    "    return X.T @ np.diag(np.exp(X @ beta)) @ X"
   ]
  },
  {
   "cell_type": "code",
   "execution_count": 184,
   "metadata": {},
   "outputs": [],
   "source": [
    "# OLS\n",
    "def objective(X, y, beta):\n",
    "    return np.sum(np.power(y - X @ beta, 2))\n",
    "\n",
    "def gradient(X, y, beta):\n",
    "    return -2 * X.T @ (y - X @ beta)\n",
    "\n",
    "def hessian(X, y, beta):\n",
    "    return 2 * X.T @ X"
   ]
  },
  {
   "cell_type": "code",
   "execution_count": 246,
   "metadata": {},
   "outputs": [],
   "source": [
    "# Poisson Ident\n",
    "def objective(X, y, beta):\n",
    "    return np.sum(X @ beta - y @ np.log(X @ beta))\n",
    "\n",
    "def gradient(X, y, beta):\n",
    "    dinv = np.diag(1/(X @ beta))\n",
    "    return -1*np.sum(X.T @ (dinv * (y - X @ beta)), axis=1)\n",
    "\n",
    "def hessian(X, y, beta):\n",
    "    dinv = np.diag(1/(X @ beta))\n",
    "    return X.T @ (y * dinv**2 ) @ X\n"
   ]
  },
  {
   "cell_type": "code",
   "execution_count": 469,
   "metadata": {},
   "outputs": [],
   "source": [
    "X = np.array([[1,2,3], [4,2,3], [1, 1,5], [1, 2,3]])\n",
    "y = np.exp(X @ np.array([.1,.2,.1]))\n"
   ]
  },
  {
   "cell_type": "code",
   "execution_count": 479,
   "metadata": {
    "scrolled": true
   },
   "outputs": [
    {
     "data": {
      "text/plain": [
       "array([ 2.92816447,  2.84118365,  3.51134985])"
      ]
     },
     "execution_count": 479,
     "metadata": {},
     "output_type": "execute_result"
    }
   ],
   "source": [
    "beta = np.log(X.T @ y)\n",
    "beta"
   ]
  },
  {
   "cell_type": "code",
   "execution_count": 480,
   "metadata": {},
   "outputs": [
    {
     "data": {
      "text/plain": [
       "1.8152218622446045e+24"
      ]
     },
     "execution_count": 480,
     "metadata": {},
     "output_type": "execute_result"
    }
   ],
   "source": [
    "objective(X, y, beta)"
   ]
  },
  {
   "cell_type": "code",
   "execution_count": 456,
   "metadata": {},
   "outputs": [
    {
     "data": {
      "text/plain": [
       "array([-12.18543516, -10.70530709, -16.05796064])"
      ]
     },
     "execution_count": 456,
     "metadata": {},
     "output_type": "execute_result"
    }
   ],
   "source": [
    "gradient(X, y, beta)"
   ]
  },
  {
   "cell_type": "code",
   "execution_count": 457,
   "metadata": {},
   "outputs": [
    {
     "data": {
      "text/plain": [
       "array([[ 162.53794416,   85.70395679,  161.75710442],\n",
       "       [  85.70395679,   75.29375554,  112.94063331],\n",
       "       [ 161.75710442,  112.94063331,  335.41679611]])"
      ]
     },
     "execution_count": 457,
     "metadata": {},
     "output_type": "execute_result"
    }
   ],
   "source": [
    "hessian(X, y, beta)"
   ]
  },
  {
   "cell_type": "code",
   "execution_count": 458,
   "metadata": {},
   "outputs": [
    {
     "name": "stdout",
     "output_type": "stream",
     "text": [
      "[ 0.1  0.2  0.1]\n",
      "3.67066839961e-28\n",
      "[  5.80901211e-14  -1.32088802e-13   5.67595361e-14]\n"
     ]
    }
   ],
   "source": [
    "# Gradient descent\n",
    "for _ in range(1000):\n",
    "    beta = beta - 1e-4 * gradient(X, y, beta)\n",
    "print(beta)\n",
    "print(objective(X, y, beta))\n",
    "print(gradient(X, y, beta))"
   ]
  },
  {
   "cell_type": "code",
   "execution_count": 464,
   "metadata": {},
   "outputs": [
    {
     "name": "stdout",
     "output_type": "stream",
     "text": [
      "[ 0.1  0.2  0.1]\n",
      "1.91791807582e-29\n",
      "[  7.47302208e-14   7.32484598e-14   1.13918606e-13]\n"
     ]
    }
   ],
   "source": [
    "# Newton Raphson\n",
    "beta = beta - np.linalg.inv(hessian(X, y, beta)) @ gradient(X, y, beta)\n",
    "print(beta)\n",
    "print(objective(X, y, beta))\n",
    "print(gradient(X, y, beta))"
   ]
  },
  {
   "cell_type": "code",
   "execution_count": 351,
   "metadata": {},
   "outputs": [
    {
     "data": {
      "text/plain": [
       "array([ 0.11095895,  0.47389231,  0.3361601 ])"
      ]
     },
     "execution_count": 351,
     "metadata": {},
     "output_type": "execute_result"
    }
   ],
   "source": [
    "beta"
   ]
  },
  {
   "cell_type": "code",
   "execution_count": 465,
   "metadata": {},
   "outputs": [
    {
     "data": {
      "text/plain": [
       "array([ -2.22044605e-15,  -2.66453526e-15,  -2.22044605e-16,\n",
       "        -2.66453526e-15])"
      ]
     },
     "execution_count": 465,
     "metadata": {},
     "output_type": "execute_result"
    }
   ],
   "source": [
    "y - np.exp(X @ beta)"
   ]
  },
  {
   "cell_type": "code",
   "execution_count": null,
   "metadata": {},
   "outputs": [],
   "source": []
  }
 ],
 "metadata": {
  "kernelspec": {
   "display_name": "Python 3",
   "language": "python",
   "name": "python3"
  },
  "language_info": {
   "codemirror_mode": {
    "name": "ipython",
    "version": 3
   },
   "file_extension": ".py",
   "mimetype": "text/x-python",
   "name": "python",
   "nbconvert_exporter": "python",
   "pygments_lexer": "ipython3",
   "version": "3.5.2"
  }
 },
 "nbformat": 4,
 "nbformat_minor": 2
}
